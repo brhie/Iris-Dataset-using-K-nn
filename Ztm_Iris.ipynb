{
  "cells": [
    {
      "cell_type": "markdown",
      "metadata": {
        "id": "view-in-github",
        "colab_type": "text"
      },
      "source": [
        "<a href=\"https://colab.research.google.com/github/brhie/Iris-Dataset-using-K-nn/blob/main/Ztm_Iris.ipynb\" target=\"_parent\"><img src=\"https://colab.research.google.com/assets/colab-badge.svg\" alt=\"Open In Colab\"/></a>"
      ]
    },
    {
      "cell_type": "code",
      "execution_count": null,
      "metadata": {
        "id": "Htpf6mA1e7pO"
      },
      "outputs": [],
      "source": [
        "# ML basic project!"
      ]
    },
    {
      "cell_type": "code",
      "source": [
        "from google.colab import drive\n",
        "drive.mount('/content/drive')"
      ],
      "metadata": {
        "colab": {
          "base_uri": "https://localhost:8080/"
        },
        "id": "7ypQ-PbObS4Z",
        "outputId": "74114591-27c3-4024-ca20-b3d4c596556c"
      },
      "execution_count": null,
      "outputs": [
        {
          "output_type": "stream",
          "name": "stdout",
          "text": [
            "Drive already mounted at /content/drive; to attempt to forcibly remount, call drive.mount(\"/content/drive\", force_remount=True).\n"
          ]
        }
      ]
    },
    {
      "cell_type": "code",
      "execution_count": null,
      "metadata": {
        "colab": {
          "base_uri": "https://localhost:8080/",
          "height": 36
        },
        "id": "hlPJkrQXfzxS",
        "outputId": "c78de9c9-e4f8-4f36-9349-e166a323c257"
      },
      "outputs": [
        {
          "output_type": "execute_result",
          "data": {
            "text/plain": [
              "'3.11.11 (main, Dec  4 2024, 08:55:07) [GCC 11.4.0]'"
            ],
            "application/vnd.google.colaboratory.intrinsic+json": {
              "type": "string"
            }
          },
          "metadata": {},
          "execution_count": 5
        }
      ],
      "source": [
        "import sys\n",
        "sys.version"
      ]
    },
    {
      "cell_type": "code",
      "execution_count": null,
      "metadata": {
        "id": "FzOXg-Vcjgtq"
      },
      "outputs": [],
      "source": [
        "from sklearn.datasets import load_iris\n",
        "iris = load_iris() # import the data"
      ]
    },
    {
      "cell_type": "code",
      "execution_count": null,
      "metadata": {
        "colab": {
          "base_uri": "https://localhost:8080/"
        },
        "id": "V1GDlIqtnsfi",
        "outputId": "c00a6a25-bf7b-4d4c-faa3-150892a6318c"
      },
      "outputs": [
        {
          "output_type": "execute_result",
          "data": {
            "text/plain": [
              "array(['setosa', 'versicolor', 'virginica'], dtype='<U10')"
            ]
          },
          "metadata": {},
          "execution_count": 8
        }
      ],
      "source": [
        "X = iris.data # these are the inputs\n",
        "y = iris.target # these are the answers, target\n",
        "\n",
        "feature_names = iris.feature_names\n",
        "target_names = iris.target_names\n",
        "target_names"
      ]
    },
    {
      "cell_type": "code",
      "execution_count": null,
      "metadata": {
        "colab": {
          "base_uri": "https://localhost:8080/"
        },
        "id": "Wm7YPPTmrrVN",
        "outputId": "b955f55b-315f-45c1-a989-11691f441403"
      },
      "outputs": [
        {
          "output_type": "stream",
          "name": "stdout",
          "text": [
            "(120, 4)\n",
            "(30, 4)\n",
            "(120,)\n",
            "(30,)\n"
          ]
        }
      ],
      "source": [
        "from sklearn.model_selection import train_test_split\n",
        "X_train, X_test, y_train, y_test = train_test_split(X, y, test_size=0.2) # split the data\n",
        "\n",
        "print(X_train.shape)\n",
        "print(X_test.shape)\n",
        "print(y_train.shape)\n",
        "print(y_test.shape)"
      ]
    },
    {
      "cell_type": "code",
      "execution_count": null,
      "metadata": {
        "id": "8xy_7jpmnwHJ"
      },
      "outputs": [],
      "source": [
        "from sklearn.neighbors import KNeighborsClassifier\n",
        "knn = KNeighborsClassifier(n_neighbors=3) # create a model\n",
        "knn.fit(X_train, y_train) # train a model\n",
        "y_pred = knn.predict(X_test)"
      ]
    },
    {
      "cell_type": "code",
      "execution_count": null,
      "metadata": {
        "colab": {
          "base_uri": "https://localhost:8080/"
        },
        "id": "yCcumh60usl_",
        "outputId": "f7d21c9d-d89f-418c-e386-1291ef89db66"
      },
      "outputs": [
        {
          "output_type": "stream",
          "name": "stdout",
          "text": [
            "0.9333333333333333\n"
          ]
        }
      ],
      "source": [
        "from sklearn import metrics\n",
        "print(metrics.accuracy_score(y_test, y_pred))"
      ]
    },
    {
      "cell_type": "code",
      "execution_count": null,
      "metadata": {
        "id": "v6ilwgWvz559"
      },
      "outputs": [],
      "source": [
        "import numpy as np\n",
        "import matplotlib.pyplot as plt\n",
        "import pandas as pd\n",
        "\n",
        "# create a function that returns a dataframe of changing score based on test data size or number of neighbors\n",
        "def score_function(x):\n",
        "  if x == \"test size\":\n",
        "    size_and_score = []\n",
        "    for i in range(1, 99):\n",
        "      test_size = float(i)*0.01\n",
        "      X_train, X_test, y_train, y_test = train_test_split(X, y, test_size=test_size)\n",
        "      knn = KNeighborsClassifier(n_neighbors=3)\n",
        "      knn.fit(X_train, y_train) # create a model\n",
        "      y_pred = knn.predict(X_test)\n",
        "      score = metrics.accuracy_score(y_test, y_pred)\n",
        "      size_and_score.append([test_size, score])\n",
        "      df = pd.DataFrame(size_and_score, columns=['test_size', 'score'])\n",
        "    return df\n",
        "\n",
        "  elif x == \"number of neighbors\":\n",
        "    number_and_score = []\n",
        "    for i in range(1, 10):\n",
        "      X_train, X_test, y_train, y_test = train_test_split(X, y, test_size=0.2)\n",
        "      knn = KNeighborsClassifier(n_neighbors=i)\n",
        "      knn.fit(X_train, y_train)\n",
        "      y_pred = knn.predict(X_test)\n",
        "      score = metrics.accuracy_score(y_test, y_pred)\n",
        "      number_and_score.append([i, score])\n",
        "      df = pd.DataFrame(number_and_score, columns=['number of neighbors', 'score'])\n",
        "    return df\n",
        "\n",
        "  else:\n",
        "    print(\"Invalid Input. Input either 'test size' or 'number of neighbors'\")\n",
        "    return None"
      ]
    },
    {
      "cell_type": "code",
      "execution_count": null,
      "metadata": {
        "id": "Pf8DuPJs3s_M"
      },
      "outputs": [],
      "source": [
        "df1 = score_function(\"test size\")\n",
        "df2 = score_function(\"number of neighbors\")"
      ]
    },
    {
      "cell_type": "code",
      "execution_count": null,
      "metadata": {
        "colab": {
          "base_uri": "https://localhost:8080/",
          "height": 450
        },
        "id": "ARCJVUhr6_p3",
        "outputId": "ef5eeff2-cd78-4d76-93cf-f06bbe779f7b"
      },
      "outputs": [
        {
          "output_type": "display_data",
          "data": {
            "text/plain": [
              "<Figure size 640x480 with 1 Axes>"
            ],
            "image/png": "[encoded data removed]"
          },
          "metadata": {}
        }
      ],
      "source": [
        "# plot score based on test size\n",
        "plt.plot(df1['test_size'], df1['score'])\n",
        "plt.xlabel('test_size')\n",
        "plt.ylabel('score')\n",
        "plt.show()"
      ]
    },
    {
      "cell_type": "code",
      "execution_count": null,
      "metadata": {
        "colab": {
          "base_uri": "https://localhost:8080/",
          "height": 449
        },
        "id": "kE47-GJw7Gts",
        "outputId": "11abc963-21a9-4524-a22a-502c82d0c6fc"
      },
      "outputs": [
        {
          "output_type": "display_data",
          "data": {
            "text/plain": [
              "<Figure size 640x480 with 1 Axes>"
            ],
            "image/png": "[encoded data removed]"
          },
          "metadata": {}
        }
      ],
      "source": [
        "# plot score based on number of neighbors\n",
        "plt.plot(df2['number of neighbors'], df2['score'])\n",
        "plt.xlabel('number of neighbors')\n",
        "plt.ylabel('score')\n",
        "plt.show()"
      ]
    },
    {
      "cell_type": "code",
      "execution_count": null,
      "metadata": {
        "colab": {
          "base_uri": "https://localhost:8080/"
        },
        "id": "2OKrFgS0VLRT",
        "outputId": "661283cc-f504-4d00-8ec0-06cc2925465d"
      },
      "outputs": [
        {
          "output_type": "stream",
          "name": "stdout",
          "text": [
            "predictions:  ['versicolor', 'virginica']\n"
          ]
        }
      ],
      "source": [
        "sample = [[3, 5, 4, 2], [2, 3, 5, 4]]\n",
        "predictions = knn.predict(sample)\n",
        "pred_species = [iris.target_names[p] for p in predictions]\n",
        "print(\"predictions: \", pred_species)"
      ]
    },
    {
      "cell_type": "code",
      "execution_count": null,
      "metadata": {
        "colab": {
          "base_uri": "https://localhost:8080/"
        },
        "id": "OuL1WTldXaia",
        "outputId": "02b86928-b46e-462c-9427-28c644021427"
      },
      "outputs": [
        {
          "output_type": "execute_result",
          "data": {
            "text/plain": [
              "['mlbrain.joblib']"
            ]
          },
          "metadata": {},
          "execution_count": 17
        }
      ],
      "source": [
        "import joblib\n",
        "joblib.dump(knn, 'mlbrain.joblib')"
      ]
    },
    {
      "cell_type": "code",
      "execution_count": null,
      "metadata": {
        "colab": {
          "base_uri": "https://localhost:8080/"
        },
        "id": "8N1NB0w0YcvU",
        "outputId": "b03c6eb6-9fcb-4aa2-9b9f-92b620fd98e8"
      },
      "outputs": [
        {
          "output_type": "stream",
          "name": "stdout",
          "text": [
            "predictions:  ['versicolor', 'virginica']\n"
          ]
        }
      ],
      "source": [
        "model = joblib.load('mlbrain.joblib')\n",
        "model.predict(X_test)\n",
        "sample = [[3, 5, 4, 2], [2, 3, 5, 4]]\n",
        "predictions = model.predict(sample)\n",
        "pred_species = [iris.target_names[p] for p in predictions]\n",
        "print(\"predictions: \", pred_species)"
      ]
    },
    {
      "cell_type": "code",
      "source": [],
      "metadata": {
        "id": "8zweuA6biRQj"
      },
      "execution_count": null,
      "outputs": []
    }
  ],
  "metadata": {
    "colab": {
      "provenance": [],
      "authorship_tag": "ABX9TyOCbfs+452ROszKDZjBQVHV",
      "include_colab_link": true
    },
    "kernelspec": {
      "display_name": "Python 3",
      "name": "python3"
    },
    "language_info": {
      "name": "python"
    }
  },
  "nbformat": 4,
  "nbformat_minor": 0
}